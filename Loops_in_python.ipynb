{
  "nbformat": 4,
  "nbformat_minor": 0,
  "metadata": {
    "colab": {
      "provenance": [],
      "authorship_tag": "ABX9TyOABivp/NXsCFqvDGNBOAPN",
      "include_colab_link": true
    },
    "kernelspec": {
      "name": "python3",
      "display_name": "Python 3"
    },
    "language_info": {
      "name": "python"
    }
  },
  "cells": [
    {
      "cell_type": "markdown",
      "metadata": {
        "id": "view-in-github",
        "colab_type": "text"
      },
      "source": [
        "<a href=\"https://colab.research.google.com/github/nishatechy/Pythonprograms/blob/main/Loops_in_python.ipynb\" target=\"_parent\"><img src=\"https://colab.research.google.com/assets/colab-badge.svg\" alt=\"Open In Colab\"/></a>"
      ]
    },
    {
      "cell_type": "code",
      "execution_count": null,
      "metadata": {
        "id": "ljm9fDgR9ZId"
      },
      "outputs": [],
      "source": []
    },
    {
      "cell_type": "markdown",
      "source": [
        "You are the English teacher for Grade 5.\n",
        "Your class consists of 15 students.\n",
        "You need to record the marks scored by each student and calculate the average.\n",
        "If the average at any point goes below 50, display a message that the marks need to be recalculated and start again.\n",
        "To make things easy, you decide to write a Python program. So go ahead!!"
      ],
      "metadata": {
        "id": "ByYY0G029ixg"
      }
    },
    {
      "cell_type": "code",
      "source": [
        "students=1\n",
        "avg=0\n",
        "total=0\n",
        "while students<=15:\n",
        "  marks=int(input(\"Enter your grade: \"))\n",
        "  total=total+ marks\n",
        "  avg=total/students\n",
        "  students=students+1\n",
        "  if avg<50:\n",
        "    print(\"***WARNING*** Class Grade Average below 50!\")\n",
        "    break\n",
        "  else:\n",
        "    print(\"The Class Grade Average is a\", avg)"
      ],
      "metadata": {
        "id": "7ez5x0uq90xz"
      },
      "execution_count": null,
      "outputs": []
    },
    {
      "cell_type": "markdown",
      "source": [
        "You work with DTDC Courier Services.\n",
        "When accepting the parcel from the customer, you need to ensure the following:\n",
        "Length and width is not more than 60 cm.\n",
        "The total weight is not  more than 5 kg\n",
        "And not more than 2 parcels from a customer\n",
        "If the above requirements are not met, reject the parcel \n",
        "\n"
      ],
      "metadata": {
        "id": "ootXSfs2-PmS"
      }
    },
    {
      "cell_type": "code",
      "source": [
        "\n",
        "length=0\n",
        "width=0\n",
        "weight=0\n",
        "parcels=0\n",
        "while parcels<=2:\n",
        "  parcels=int(input(\"Enter ONLY THE NUMBER of parcels to be delivered: \"))\n",
        "  length=int(input(\"Enter ONLY THE NUMBER for the length of your parcel in centimeters: \"))\n",
        "  width=int(input(\"Enter ONLY THE NUMBER for the width of your parcel in centimeters: \"))\n",
        "  weight=float(input(\"Enter ONLY THE NUMBER for the weight of your parcel in kilograms: \"))\n",
        "  if length>60 or width>60 or weight>5 or parcels>2:\n",
        "    print(\"Your parcel is rejected due to size or weight restrictions. Your parcel must be less than 60 cm for both length and width. Addtionally, your parcel must be less than 5 kilograms. If all restrictions are followed, your parcel shall be delivered to the designated delivery location.\")\n",
        "  else:\n",
        "    breakparcel=parcels+1"
      ],
      "metadata": {
        "colab": {
          "base_uri": "https://localhost:8080/"
        },
        "id": "Xbwzb3GQ-h66",
        "outputId": "01db9be8-1032-4ead-b8c9-fa4d450d9b37"
      },
      "execution_count": 2,
      "outputs": [
        {
          "output_type": "stream",
          "name": "stdout",
          "text": [
            "Enter ONLY THE NUMBER of parcels to be delivered: 3\n",
            "Enter ONLY THE NUMBER for the length of your parcel in centimeters: 50\n",
            "Enter ONLY THE NUMBER for the width of your parcel in centimeters: 50\n",
            "Enter ONLY THE NUMBER for the weight of your parcel in kilograms: 5\n",
            "Your parcel is rejected due to size or weight restrictions. Your parcel must be less than 60 cm for both length and width. Addtionally, your parcel must be less than 5 kilograms. If all restrictions are followed, your parcel shall be delivered to the designated delivery location.\n"
          ]
        }
      ]
    },
    {
      "cell_type": "markdown",
      "source": [],
      "metadata": {
        "id": "QveaTJUY_Rq3"
      }
    },
    {
      "cell_type": "markdown",
      "source": [
        "A farmer records the milk production of a herd of 3 cows.\n",
        "The volume of milk from each cow is recorded only once a day and placed in a container\n",
        "At any point, if the total volume of milk crosses 50 litres, then print a message to request  for a new container and don't take any further input\n",
        "You decide to write a program to help the farmer.\n",
        "Task 2: Solution"
      ],
      "metadata": {
        "id": "573GCdgl_Y9q"
      }
    },
    {
      "cell_type": "code",
      "source": [
        "cow1=0\n",
        "\n",
        "total=0\n",
        "while cow1<=3:\n",
        "  vol=int(input(\"Enter ONLY THE NUMBER of the total volume of milk from the first cow in liters: \"))\n",
        " \n",
        "  total=total+vol\n",
        "  cow1=cow1+1\n",
        "  if total>50:\n",
        "    print(\"***CONTAINER FULL***\")\n",
        "    print(\"***GET A NEW CAN TO STORE THE MILK***\")\n",
        "    break\n",
        "  else:\n",
        "    print(\"The total volume of milk produced today is\", total)"
      ],
      "metadata": {
        "id": "OSkbG8o8_fxn"
      },
      "execution_count": null,
      "outputs": []
    },
    {
      "cell_type": "code",
      "source": [],
      "metadata": {
        "id": "9UHAw0fi_YYQ"
      },
      "execution_count": null,
      "outputs": []
    }
  ]
}